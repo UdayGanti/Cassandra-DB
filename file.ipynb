{
 "cells": [
  {
   "cell_type": "code",
   "execution_count": 8,
   "metadata": {},
   "outputs": [],
   "source": [
    "from cassandra.cluster import Cluster\n",
    "\n",
    "import pandas as pd"
   ]
  },
  {
   "cell_type": "code",
   "execution_count": 2,
   "metadata": {},
   "outputs": [],
   "source": [
    "object = Cluster()\n",
    "session = object.connect()"
   ]
  },
  {
   "cell_type": "code",
   "execution_count": 3,
   "metadata": {},
   "outputs": [
    {
     "data": {
      "text/plain": [
       "<cassandra.cluster.ResultSet at 0x7fe69c7c1f00>"
      ]
     },
     "execution_count": 3,
     "metadata": {},
     "output_type": "execute_result"
    }
   ],
   "source": [
    "session.execute(\"CREATE KEYSPACE IF NOT EXISTS m14 WITH REPLICATION = {'class':'SimpleStrategy','replication_factor':'1'}\")"
   ]
  },
  {
   "cell_type": "code",
   "execution_count": 6,
   "metadata": {},
   "outputs": [
    {
     "data": {
      "text/plain": [
       "<cassandra.cluster.ResultSet at 0x7fe6aee05ab0>"
      ]
     },
     "execution_count": 6,
     "metadata": {},
     "output_type": "execute_result"
    }
   ],
   "source": [
    "session.execute(f\"\"\"CREATE TABLE IF NOT EXISTS m14.storage(\n",
    "SKU TEXT,\n",
    "NAME TEXT,\n",
    "DESCRIPTION TEXT,\n",
    "WAREHOUSE_NUMBER INT,\n",
    "PRIMARY KEY(SKU))\n",
    "\"\"\")"
   ]
  },
  {
   "cell_type": "code",
   "execution_count": 9,
   "metadata": {},
   "outputs": [],
   "source": [
    "df = pd.read_csv(\"table.csv\")"
   ]
  },
  {
   "cell_type": "code",
   "execution_count": 10,
   "metadata": {},
   "outputs": [
    {
     "data": {
      "text/html": [
       "<div>\n",
       "<style scoped>\n",
       "    .dataframe tbody tr th:only-of-type {\n",
       "        vertical-align: middle;\n",
       "    }\n",
       "\n",
       "    .dataframe tbody tr th {\n",
       "        vertical-align: top;\n",
       "    }\n",
       "\n",
       "    .dataframe thead th {\n",
       "        text-align: right;\n",
       "    }\n",
       "</style>\n",
       "<table border=\"1\" class=\"dataframe\">\n",
       "  <thead>\n",
       "    <tr style=\"text-align: right;\">\n",
       "      <th></th>\n",
       "      <th>SKU</th>\n",
       "      <th>NAME</th>\n",
       "      <th>DESCRIPTION</th>\n",
       "      <th>WAREHOUSE_NUMBER</th>\n",
       "    </tr>\n",
       "  </thead>\n",
       "  <tbody>\n",
       "    <tr>\n",
       "      <th>0</th>\n",
       "      <td>'AB12'</td>\n",
       "      <td>'Blue T-Shirt'</td>\n",
       "      <td>'A cotton t-shirt with a blue color and round ...</td>\n",
       "      <td>1234</td>\n",
       "    </tr>\n",
       "    <tr>\n",
       "      <th>1</th>\n",
       "      <td>'CD34'</td>\n",
       "      <td>'Black Jeans'</td>\n",
       "      <td>'A pair of black denim jeans with a slim fit a...</td>\n",
       "      <td>5678</td>\n",
       "    </tr>\n",
       "    <tr>\n",
       "      <th>2</th>\n",
       "      <td>'EF56'</td>\n",
       "      <td>'Red Sneakers'</td>\n",
       "      <td>'A pair of red canvas sneakers with white rubb...</td>\n",
       "      <td>91011</td>\n",
       "    </tr>\n",
       "    <tr>\n",
       "      <th>3</th>\n",
       "      <td>'GH78'</td>\n",
       "      <td>'Leather Belt'</td>\n",
       "      <td>'A brown leather belt with silver buckle and a...</td>\n",
       "      <td>1213</td>\n",
       "    </tr>\n",
       "    <tr>\n",
       "      <th>4</th>\n",
       "      <td>'IJ90'</td>\n",
       "      <td>'Green Hoodie'</td>\n",
       "      <td>'A fleece hoodie with a green color, kangaroo ...</td>\n",
       "      <td>1415</td>\n",
       "    </tr>\n",
       "  </tbody>\n",
       "</table>\n",
       "</div>"
      ],
      "text/plain": [
       "      SKU            NAME                                        DESCRIPTION  \\\n",
       "0  'AB12'  'Blue T-Shirt'  'A cotton t-shirt with a blue color and round ...   \n",
       "1  'CD34'   'Black Jeans'  'A pair of black denim jeans with a slim fit a...   \n",
       "2  'EF56'  'Red Sneakers'  'A pair of red canvas sneakers with white rubb...   \n",
       "3  'GH78'  'Leather Belt'  'A brown leather belt with silver buckle and a...   \n",
       "4  'IJ90'  'Green Hoodie'  'A fleece hoodie with a green color, kangaroo ...   \n",
       "\n",
       "   WAREHOUSE_NUMBER  \n",
       "0              1234  \n",
       "1              5678  \n",
       "2             91011  \n",
       "3              1213  \n",
       "4              1415  "
      ]
     },
     "execution_count": 10,
     "metadata": {},
     "output_type": "execute_result"
    }
   ],
   "source": [
    "df.head()"
   ]
  },
  {
   "cell_type": "code",
   "execution_count": 11,
   "metadata": {},
   "outputs": [],
   "source": [
    "for index,row in df.iterrows():\n",
    "    session.execute(f\"\"\" INSERT INTO m14.storage (SKU,NAME,DESCRIPTION,WAREHOUSE_NUMBER)\n",
    "    VALUES({row[0]},{row[1]},{row[2]},{row[3]})\n",
    "    \"\"\")"
   ]
  },
  {
   "cell_type": "code",
   "execution_count": 12,
   "metadata": {},
   "outputs": [
    {
     "name": "stdout",
     "output_type": "stream",
     "text": [
      "Row(sku='KL12', description='A black leather wallet with multiple card slots and bill compartment', name='Leather Wallet', warehouse_number=1617)\n",
      "Row(sku='YZ56', description='A brown leather jacket with zip closure and ribbed cuffs', name='Brown Jacket', warehouse_number=1234)\n",
      "Row(sku='WX34', description='A pair of black leather gloves with fleece lining', name='Black Gloves', warehouse_number=91011)\n",
      "Row(sku='EF56', description='A pair of red canvas sneakers with white rubber soles', name='Red Sneakers', warehouse_number=91011)\n",
      "Row(sku='UV12', description='A woolen red hat with a pom-pom on top', name='Red Hat', warehouse_number=1415)\n",
      "Row(sku='MN34', description='A stainless steel watch with silver dial and black leather strap', name='Silver Watch', warehouse_number=1819)\n",
      "Row(sku='QR78', description='A gray wool scarf with fringed edges and soft texture', name='Wool Scarf', warehouse_number=2223)\n",
      "Row(sku='CD34', description='A pair of black denim jeans with a slim fit and straight leg cut', name='Black Jeans', warehouse_number=5678)\n",
      "Row(sku='IJ90', description='A fleece hoodie with a green color, kangaroo pocket', name='Green Hoodie', warehouse_number=1415)\n",
      "Row(sku='ST90', description='A pair of brown leather boots with a round toe and lace-up closure', name='Leather Boots', warehouse_number=2425)\n",
      "Row(sku='GH78', description='A brown leather belt with silver buckle and adjustable size', name='Leather Belt', warehouse_number=1213)\n",
      "Row(sku='OP56', description='A nylon backpack with blue color and multiple compartments', name='Blue Backpack', warehouse_number=2021)\n",
      "Row(sku='AB12', description='A cotton t-shirt with a blue color and round neckline', name='Blue T-Shirt', warehouse_number=1234)\n"
     ]
    }
   ],
   "source": [
    "output = session.execute(\"SELECT * FROM m14.storage\")\n",
    "for i in output:\n",
    "    print(i)"
   ]
  },
  {
   "cell_type": "code",
   "execution_count": 14,
   "metadata": {},
   "outputs": [
    {
     "data": {
      "text/plain": [
       "<cassandra.cluster.ResultSet at 0x7fe674127a00>"
      ]
     },
     "execution_count": 14,
     "metadata": {},
     "output_type": "execute_result"
    }
   ],
   "source": [
    "session.execute(\"CREATE INDEX sample ON m14.storage(WAREHOUSE_NUMBER)\")"
   ]
  },
  {
   "cell_type": "code",
   "execution_count": 16,
   "metadata": {},
   "outputs": [
    {
     "name": "stdout",
     "output_type": "stream",
     "text": [
      "Row(sku='YZ56', description='A brown leather jacket with zip closure and ribbed cuffs', name='Brown Jacket', warehouse_number=1234)\n",
      "Row(sku='AB12', description='A cotton t-shirt with a blue color and round neckline', name='Blue T-Shirt', warehouse_number=1234)\n"
     ]
    }
   ],
   "source": [
    "output = session.execute(\"SELECT * FROM m14.storage WHERE WAREHOUSE_NUMBER=1234\")\n",
    "for i in output:\n",
    "    print(i)"
   ]
  }
 ],
 "metadata": {
  "kernelspec": {
   "display_name": "base",
   "language": "python",
   "name": "python3"
  },
  "language_info": {
   "codemirror_mode": {
    "name": "ipython",
    "version": 3
   },
   "file_extension": ".py",
   "mimetype": "text/x-python",
   "name": "python",
   "nbconvert_exporter": "python",
   "pygments_lexer": "ipython3",
   "version": "3.10.8"
  },
  "orig_nbformat": 4,
  "vscode": {
   "interpreter": {
    "hash": "c774f5f42cb3e70515ef7cb909d9051370cc09a28b296d74902002ebc2249cb4"
   }
  }
 },
 "nbformat": 4,
 "nbformat_minor": 2
}
